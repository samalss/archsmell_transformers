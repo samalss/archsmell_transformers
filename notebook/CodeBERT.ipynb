{
 "cells": [
  {
   "cell_type": "code",
   "execution_count": null,
   "metadata": {
    "colab": {
     "base_uri": "https://localhost:8080/"
    },
    "id": "fVrdHqqlu4Rm",
    "outputId": "f71afa87-f4a3-4921-c42b-9a204e24fd2b"
   },
   "outputs": [],
   "source": [
    "pip install datasets evaluate"
   ]
  },
  {
   "cell_type": "code",
   "execution_count": null,
   "metadata": {
    "id": "xgU5BwvUpnLq"
   },
   "outputs": [],
   "source": [
    "import pandas as pd\n",
    "from datasets import Dataset\n",
    "from transformers import RobertaTokenizer, RobertaForSequenceClassification, Trainer, TrainingArguments\n",
    "import evaluate\n",
    "import numpy as np\n",
    "import torch\n",
    "from sklearn.metrics import confusion_matrix\n",
    "import matplotlib.pyplot as plt\n",
    "import seaborn as sns\n",
    "import numpy as np\n"
   ]
  },
  {
   "cell_type": "code",
   "execution_count": null,
   "metadata": {
    "id": "j_ArarMwsL3A"
   },
   "outputs": [],
   "source": [
    "# Data loading\n",
    "df = pd.read_csv(\"dataset.tsv\", sep=\"\\t\", escapechar=\"\\\\\")"
   ]
  },
  {
   "cell_type": "code",
   "execution_count": null,
   "metadata": {
    "colab": {
     "base_uri": "https://localhost:8080/"
    },
    "id": "CUTcrRfUtuLW",
    "outputId": "39cde535-385b-4f88-a6c1-65df191e24d8"
   },
   "outputs": [],
   "source": [
    "print(df.head())"
   ]
  },
  {
   "cell_type": "code",
   "execution_count": null,
   "metadata": {
    "colab": {
     "base_uri": "https://localhost:8080/"
    },
    "id": "EewpJ8j8twze",
    "outputId": "88105b77-60cb-46c6-cc52-0571d9f580bb"
   },
   "outputs": [],
   "source": [
    "print(df.info())"
   ]
  },
  {
   "cell_type": "code",
   "execution_count": null,
   "metadata": {
    "colab": {
     "base_uri": "https://localhost:8080/"
    },
    "id": "htLXaxVytyFa",
    "outputId": "a257f2ab-d6a9-4e51-b8d0-c61d98dee187"
   },
   "outputs": [],
   "source": [
    "print(df.describe())"
   ]
  },
  {
   "cell_type": "code",
   "execution_count": null,
   "metadata": {
    "colab": {
     "base_uri": "https://localhost:8080/"
    },
    "id": "Lv-GZu3jt1Y9",
    "outputId": "9aa2642b-9a4e-404f-f2ec-ec57397943ed"
   },
   "outputs": [],
   "source": [
    "print(df.dtypes)"
   ]
  },
  {
   "cell_type": "code",
   "execution_count": null,
   "metadata": {
    "id": "1kJ8Iu2SsNKd"
   },
   "outputs": [],
   "source": [
    "\n",
    "# Removing the lines where refactoring_type = \"no_refactoring\"\n",
    "df = df[~df[\"refactoring_type\"].isin([\"no_refactoring\", \"Extract Variable\", \"Move Method\"])]\n"
   ]
  },
  {
   "cell_type": "code",
   "execution_count": null,
   "metadata": {
    "id": "uqNcFDeTsOWT"
   },
   "outputs": [],
   "source": [
    "\n",
    "#Creating a list of labels\n",
    "labels = sorted(df[\"refactoring_type\"].unique())\n",
    "label2id = {label: i for i, label in enumerate(labels)}\n",
    "id2label = {i: label for label, i in label2id.items()}\n",
    "df[\"label\"] = df[\"refactoring_type\"].map(label2id)\n"
   ]
  },
  {
   "cell_type": "code",
   "execution_count": null,
   "metadata": {
    "colab": {
     "base_uri": "https://localhost:8080/"
    },
    "id": "SM4YQyALt8eL",
    "outputId": "865ed743-c7a3-4bf0-80c2-976e52073a3a"
   },
   "outputs": [],
   "source": [
    "print(df.head())"
   ]
  },
  {
   "cell_type": "code",
   "execution_count": null,
   "metadata": {
    "colab": {
     "base_uri": "https://localhost:8080/"
    },
    "id": "7CDaLZJEsP0N",
    "outputId": "62e25196-5844-4783-8df7-43829669a112"
   },
   "outputs": [],
   "source": [
    "\n",
    "print(\"Updated list of labels:\", label2id)\n"
   ]
  },
  {
   "cell_type": "code",
   "execution_count": null,
   "metadata": {
    "colab": {
     "base_uri": "https://localhost:8080/",
     "height": 304,
     "referenced_widgets": [
      "9a1599d4ff5a43edbef86b921d9782b2",
      "037a5086fdd348d3857f60eb95b14e87",
      "b1e35b35c7b5467694ccfdd1b43f3329",
      "cd2f73d485ec4820b70d49389b6113da",
      "4982d4a7aa054df4a67ac91554dfd20d",
      "c19e544ca6c24c6f9c046aed02d32cc0",
      "ecafff83f99f45d4962467b41854bed0",
      "e69f513b1ffe4cf6bd7cbd02573e3615",
      "6b2791972870429d8027574b2f907c65",
      "9034eaf782fb4a048dd79bca60d0fe0a",
      "847ffebfd4174570bacb1e064d229f50",
      "9a31ff05d2174da6940e5a26004efa03",
      "0f5848513b78459a952790cfa2ac1589",
      "2445faeeea224a149779bae3205adb76",
      "5922f4b7cab5407f8c1431e4b7c6a4dd",
      "bc7037342c5544ffb64835ca1cadf758",
      "04b678e495504c86b750b3c61101d02f",
      "644c80499df1450db999807fa66487b1",
      "f6152ac1b3c343c2b70e2598f0e16745",
      "5d69ce3253924a0cb143558790b71feb",
      "7fafd0f0803843bf92da92752cdf3e81",
      "23029ce02c8044ff83029fd857105106",
      "d1bcdb043e0c499eb4f25d7ca7a807ee",
      "51396073d9574b8299716c43b41fe8cb",
      "17178ca30bd54ce392c3ccf7554e2aee",
      "6432b8ebfdef4efba7dd7bc9abdf3cbc",
      "ead17ab349694bf2ad97e42fddac30ea",
      "01fb36d3408d41e3b7e200d9dc85fdef",
      "f5362a7a88c342a2bf236613fb1771b5",
      "d2066d9818814410b5addf8c871e62aa",
      "79d8366e9dae44e984230f088d8dc0c1",
      "61d5de1e347145a7b327138e9ec9e81e",
      "2c264938aab546d49b2e2f98a0699f17",
      "aebc78ea007648b8be7a67183f5568d1",
      "bec450c44abd4897a7617a9b43eac703",
      "7ff255d4ea5f4fd5be782f359f7635d4",
      "9bd87d4c940f4addb6751b4cdc83f3d8",
      "c50a27200853417ab785d1c31f89ab53",
      "45f0b108a69a4a28a06c302c1dbd1eb4",
      "994db5bf835c4e6195b93e7e5c6ba943",
      "3df911e3217e49c9acd017320d5b0e81",
      "4e2286ef0eb24d649f0f89fe64d86791",
      "2bb0dd6c03e64a45be601558634f3aa9",
      "9b8bc65e7cc64d14b28fac48453668e0",
      "d7c3bc5e21b544f488a74b6f0c1d9796",
      "15fae6e9b72e4302801d058f5fd43fde",
      "bd295f0c82414498899cd2251e2aae14",
      "9de6df2844114b9db147ded667c06601",
      "eb69b517a07f4f9897e6ad595a94d21c",
      "8519d399dc7549e5a1ea5ca96dfead3b",
      "11b16f5791394d55a689881aaf04c368",
      "476a539cbcd0474bac827b6c81181346",
      "4f3295622759423ba0621c463ace57e1",
      "e82f06fe546c4d3e9552001e10d9c1ad",
      "e17af4ec3d5f460dbeebdce7b71b11b5"
     ]
    },
    "id": "RLyGuPFtsRxx",
    "outputId": "a57a6632-ab7e-4e3a-8ad5-bcb71235400b"
   },
   "outputs": [],
   "source": [
    "\n",
    "# Downloading the CodeBERT tokenizer\n",
    "tokenizer = RobertaTokenizer.from_pretrained(\"microsoft/codebert-base\")\n"
   ]
  },
  {
   "cell_type": "code",
   "execution_count": null,
   "metadata": {
    "id": "hy0rnTmtsTZ-"
   },
   "outputs": [],
   "source": [
    "\n",
    "# Sliding Window\n",
    "def sliding_window_tokenization(code, tokenizer, max_length=256, stride=128):\n",
    "    tokens = tokenizer.tokenize(code)\n",
    "    segments = []\n",
    "\n",
    "    for i in range(0, len(tokens), stride):\n",
    "        segment = tokens[i : i + max_length]\n",
    "        segments.append(tokenizer.convert_tokens_to_string(segment))\n",
    "\n",
    "    return \" \".join(segments)\n"
   ]
  },
  {
   "cell_type": "code",
   "execution_count": null,
   "metadata": {
    "id": "d68hTFImsVEl"
   },
   "outputs": [],
   "source": [
    "\n",
    "# Applying the Sliding Window to the entire dataset\n",
    "df[\"processed_code\"] = df[\"code\"].apply(lambda x: sliding_window_tokenization(x, tokenizer))\n"
   ]
  },
  {
   "cell_type": "code",
   "execution_count": null,
   "metadata": {
    "id": "NQ2unPrdsWaG"
   },
   "outputs": [],
   "source": [
    "\n",
    "# Filtering of empty values\n",
    "df = df[df[\"processed_code\"].notna()]\n",
    "df = df[df[\"processed_code\"].str.strip() != \"\"]\n"
   ]
  },
  {
   "cell_type": "code",
   "execution_count": null,
   "metadata": {
    "id": "-0rE6lV7sXre"
   },
   "outputs": [],
   "source": [
    "\n",
    "# Converting a DataFrame to a Dataset\n",
    "dataset = Dataset.from_pandas(df)\n",
    "\n",
    "# Tokenization of the processed code\n",
    "def tokenize_function(examples):\n",
    "    return tokenizer(\n",
    "        examples[\"processed_code\"],\n",
    "        padding=\"max_length\",\n",
    "        truncation=True,\n",
    "        max_length=256  # CodeBERT processes up to 256 tokens at a time\n",
    "    )\n"
   ]
  },
  {
   "cell_type": "code",
   "execution_count": null,
   "metadata": {
    "colab": {
     "base_uri": "https://localhost:8080/",
     "height": 49,
     "referenced_widgets": [
      "11b356e152714dee8c5c975a54eeeb6b",
      "1ff9ab3ceb03457ea5d342fcd5b94529",
      "721c3e3707cd4ffa8dd3f85837532de1",
      "761b818932804cb3826224c930dcef93",
      "f6ac68beacfe40d79299440f501a23e5",
      "dbffa4b0ef314fb68b79cca8b26b1971",
      "97c51ab702db49e8be68120c7838b3a7",
      "2cfe2ae279de432cac5766ae625209df",
      "24c30fcef65446999a357d98236eabe8",
      "ff11c9d2426a4c588ed1d045c6ac546d",
      "48637195079b454f9d7b5140acc013bb"
     ]
    },
    "id": "YW0eiDbqsZGv",
    "outputId": "8bd8fa52-7445-42a9-cb90-512e919563e3"
   },
   "outputs": [],
   "source": [
    "\n",
    "tokenized_dataset = dataset.map(tokenize_function, batched=True)"
   ]
  },
  {
   "cell_type": "code",
   "execution_count": null,
   "metadata": {
    "id": "fV98vCuisclk"
   },
   "outputs": [],
   "source": [
    "# train/test\n",
    "split_ds = tokenized_dataset.train_test_split(test_size=0.2, seed=42)\n",
    "train_ds = split_ds[\"train\"]\n",
    "test_ds = split_ds[\"test\"]\n"
   ]
  },
  {
   "cell_type": "code",
   "execution_count": null,
   "metadata": {
    "colab": {
     "base_uri": "https://localhost:8080/",
     "height": 105,
     "referenced_widgets": [
      "e2bb93deb9994af69519e51d1bdbd145",
      "668840e1d821425aabc9b6a33d79c207",
      "6a6aa4b01df94260a6c8dc990ba6c6ff",
      "1ccbe04ae512477f93a3ad6891dd8f4a",
      "e0c98ba667bc4cbe90515317eed05f3b",
      "5bf3caf0d67b4cd79944e20b757b423a",
      "1c4c90bdd273467f851b190aacec1f4a",
      "70dc23089a654890b8b286249bafecb2",
      "ff34841da4d349f584f9aebc7c58cf01",
      "b637a9a3e9c0424ba527d0cd451a39e3",
      "94046037043445ee89a78ceb7283096d"
     ]
    },
    "id": "DKcG2XCJsdhA",
    "outputId": "86ba1a3b-c0a7-452e-ff0d-eb3ccef0e73e"
   },
   "outputs": [],
   "source": [
    "\n",
    "# 📌 11. Loading CodeBERT\n",
    "model = RobertaForSequenceClassification.from_pretrained(\n",
    "    \"microsoft/codebert-base\",\n",
    "    num_labels=len(labels),\n",
    "    id2label=id2label,\n",
    "    label2id=label2id\n",
    ")\n"
   ]
  },
  {
   "cell_type": "code",
   "execution_count": null,
   "metadata": {
    "id": "guNlWhpKsklS"
   },
   "outputs": [],
   "source": [
    "\n",
    "# Improving the model parameters (adding a dropout)\n",
    "model.config.hidden_dropout_prob = 0.4  # Optimal for stable learning\n",
    "model.config.attention_probs_dropout_prob = 0.4  # Optimized Attention dropout\n"
   ]
  },
  {
   "cell_type": "code",
   "execution_count": null,
   "metadata": {
    "id": "IDOiUHIxslyy"
   },
   "outputs": [],
   "source": [
    "\n",
    "# Metrics (Accuracy + F1)\n",
    "accuracy_metric = evaluate.load(\"accuracy\")\n",
    "f1_metric = evaluate.load(\"f1\")\n"
   ]
  },
  {
   "cell_type": "code",
   "execution_count": null,
   "metadata": {
    "colab": {
     "base_uri": "https://localhost:8080/",
     "height": 113,
     "referenced_widgets": [
      "a1e3ddf807d342e1b9b3d1f857b154b9",
      "33a921c3953f4f51bdb1c592b42944d1",
      "1100884cf76845f0bd5ef744f2bce194",
      "1cf718efc5b24b67a467adfcd1e809f9",
      "509691ab45524ad0aa4cfde39599e106",
      "8a4619b368b642bf8d202db9f662cca2",
      "57065d51a551416eba175bd7d06bb1a8",
      "3b7baf3e2c6c4ad48fe18cc49062403c",
      "098996b3c3f74310bb16f784b2ae3879",
      "bc64bacc865d495b819d429abf1deed5",
      "ae71d503786f4e4b947df8133c96ddc1",
      "873049106cbf4b64b46d7430449d0f7f",
      "0b860787f69741c0a4577d2a02c86cb6",
      "df645eb5e2134efa981de4e4b97e7391",
      "b190995570694d39a78bbd325d73cac1",
      "24aef8a27b5647a6b0f3fcac7f2e1951",
      "f0891172099d4bf4b953ea7a91b368b1",
      "474c1f74ac864147816bd9d35d67b6bd",
      "aa8189ef62534c58bffad6fa47261a1e",
      "7001d21587ef4e8a89defac442e307bd",
      "01d8611fb99942139d02aded73ee9d1e",
      "dddd463be3f5450ba3aae93edaf556df",
      "13365ac7fc2d45bda28a2e6ed200b618",
      "2193b8c8c7f94248993a82aa839d541a",
      "576a837e7c4646e296c79b0397e6ce1b",
      "20fe219861cd4d8db5eef911f7419c40",
      "11eeaaf434ab48aa82e4719edd703a9b",
      "594534e4c6d644c19435b315881c06f2",
      "43fac3a2659040a089c35d0185832650",
      "a402229ddcc149ddb2daa17f0c0c46e7",
      "a0b07553ca2e47f0ae2b1397d04aec16",
      "55a3346276464fce806e52025054d6fb",
      "6e1193aac81b4f4fb2eb17fc21ca9986"
     ]
    },
    "id": "LXEAjqtOsnHA",
    "outputId": "ef7be61c-87a7-46ca-a5d9-8aec9bfe5536"
   },
   "outputs": [],
   "source": [
    "import evaluate\n",
    "import numpy as np\n",
    "from sklearn.metrics import confusion_matrix\n",
    "\n",
    "accuracy_metric = evaluate.load(\"accuracy\")\n",
    "f1_metric = evaluate.load(\"f1\")\n",
    "precision_metric = evaluate.load(\"precision\")\n",
    "recall_metric = evaluate.load(\"recall\")\n"
   ]
  },
  {
   "cell_type": "code",
   "execution_count": null,
   "metadata": {},
   "outputs": [],
   "source": [
    "\n",
    "def compute_metrics(eval_pred):\n",
    "    logits, y_true = eval_pred\n",
    "    y_pred = np.argmax(logits, axis=-1)\n",
    "\n",
    "    accuracy = accuracy_metric.compute(predictions=y_pred, references=y_true)[\"accuracy\"]\n",
    "\n",
    "    f1 = f1_metric.compute(predictions=y_pred, references=y_true, average=\"weighted\")[\"f1\"]\n",
    "\n",
    "    precision = precision_metric.compute(predictions=y_pred, references=y_true, average=\"weighted\")[\"precision\"]\n",
    "    recall = recall_metric.compute(predictions=y_pred, references=y_true, average=\"weighted\")[\"recall\"]\n",
    "\n",
    "    return {\n",
    "        \"accuracy\": accuracy,\n",
    "        \"f1\": f1,\n",
    "        \"precision\": precision,\n",
    "        \"recall\": recall,\n",
    "    }\n"
   ]
  },
  {
   "cell_type": "code",
   "execution_count": null,
   "metadata": {
    "colab": {
     "base_uri": "https://localhost:8080/",
     "height": 73
    },
    "id": "VwgY1lLOso1K",
    "outputId": "9d5424a2-5f8f-423c-cce6-17c64df5bc7c"
   },
   "outputs": [],
   "source": [
    "\n",
    "# Optimized learning parameters\n",
    "training_args = TrainingArguments(\n",
    "    output_dir=\"./codebert_results\",\n",
    "    evaluation_strategy=\"epoch\",\n",
    "    save_strategy=\"epoch\",\n",
    "    logging_steps=100,\n",
    "    per_device_train_batch_size=16,\n",
    "    per_device_eval_batch_size=16,\n",
    "    num_train_epochs=10,\n",
    "    learning_rate=3e-5,\n",
    "    weight_decay=0.05,\n",
    "    warmup_ratio=0.06,\n",
    "    lr_scheduler_type=\"cosine\",\n",
    "    save_total_limit=2,\n",
    "    load_best_model_at_end=True,\n",
    "    metric_for_best_model=\"f1\",\n",
    ")\n"
   ]
  },
  {
   "cell_type": "code",
   "execution_count": null,
   "metadata": {
    "colab": {
     "base_uri": "https://localhost:8080/",
     "height": 73
    },
    "id": "aI5VV32Ssprd",
    "outputId": "ed3a4cd6-fef1-4a16-c387-f82018d77544"
   },
   "outputs": [],
   "source": [
    "\n",
    "# Trainer\n",
    "trainer = Trainer(\n",
    "    model=model,\n",
    "    args=training_args,\n",
    "    train_dataset=train_ds,\n",
    "    eval_dataset=test_ds,\n",
    "    tokenizer=tokenizer,\n",
    "    compute_metrics=compute_metrics,\n",
    ")\n"
   ]
  },
  {
   "cell_type": "code",
   "execution_count": null,
   "metadata": {
    "colab": {
     "base_uri": "https://localhost:8080/",
     "height": 1000
    },
    "id": "rd55NhMYsqYp",
    "outputId": "d306c1c4-6558-4f31-a695-eaf4f6c07fa5"
   },
   "outputs": [],
   "source": [
    "\n",
    "# model training\n",
    "trainer.train()\n"
   ]
  },
  {
   "cell_type": "code",
   "execution_count": null,
   "metadata": {
    "colab": {
     "base_uri": "https://localhost:8080/"
    },
    "id": "Kzv9jZU7srZ0",
    "outputId": "436d37c7-0ea8-4b39-85e6-ec8b5e252ac0"
   },
   "outputs": [],
   "source": [
    "# Save model\n",
    "trainer.save_model(\"./codebert_refactor_suggester\")\n",
    "tokenizer.save_pretrained(\"./codebert_refactor_suggester\")\n"
   ]
  },
  {
   "cell_type": "code",
   "execution_count": null,
   "metadata": {
    "colab": {
     "base_uri": "https://localhost:8080/",
     "height": 896
    },
    "id": "XN5dsFRTV-Vu",
    "outputId": "4e6df4c1-9ca9-4934-faef-45d5f25eaffb"
   },
   "outputs": [],
   "source": [
    "preds_output = trainer.predict(test_ds)\n",
    "y_pred = np.argmax(preds_output.predictions, axis=1)\n",
    "y_true = preds_output.label_ids\n",
    "\n",
    "cm = confusion_matrix(y_true, y_pred)\n",
    "labels = list(id2label.values())"
   ]
  },
  {
   "cell_type": "code",
   "execution_count": null,
   "metadata": {},
   "outputs": [],
   "source": [
    "plt.figure(figsize=(10, 8))\n",
    "sns.heatmap(cm, annot=True, fmt=\"d\", cmap=\"Blues\", xticklabels=labels, yticklabels=labels)\n",
    "plt.xlabel(\"Predicted label\")\n",
    "plt.ylabel(\"True label\")\n",
    "plt.title(\"Confusion Matrix\")\n",
    "plt.xticks(rotation=45)\n",
    "plt.yticks(rotation=0)\n",
    "plt.tight_layout()\n",
    "plt.show()"
   ]
  }
 ],
 "metadata": {
  "accelerator": "GPU",
  "colab": {
   "gpuType": "T4",
   "provenance": []
  },
  "kernelspec": {
   "display_name": "Python 3",
   "name": "python3"
  },
  "language_info": {
   "codemirror_mode": {
    "name": "ipython",
    "version": 3
   },
   "file_extension": ".py",
   "mimetype": "text/x-python",
   "name": "python",
   "nbconvert_exporter": "python",
   "pygments_lexer": "ipython3",
   "version": "3.13.1"
  }
 },
 "nbformat": 4,
 "nbformat_minor": 0
}
